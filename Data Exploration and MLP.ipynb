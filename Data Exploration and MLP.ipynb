{
 "cells": [
  {
   "cell_type": "code",
   "execution_count": 1,
   "id": "0f19c74f-d4bc-413f-b51c-a6b7cb723f68",
   "metadata": {},
   "outputs": [
    {
     "name": "stdout",
     "output_type": "stream",
     "text": [
      "Looking in indexes: https://pypi.org/simple, https://pypi.ngc.nvidia.com\n",
      "Collecting seaborn\n",
      "  Downloading seaborn-0.11.2-py3-none-any.whl (292 kB)\n",
      "\u001b[K     |████████████████████████████████| 292 kB 21.9 MB/s eta 0:00:01\n",
      "\u001b[?25hRequirement already satisfied: numpy>=1.15 in /opt/conda/lib/python3.8/site-packages (from seaborn) (1.22.2)\n",
      "Requirement already satisfied: matplotlib>=2.2 in /opt/conda/lib/python3.8/site-packages (from seaborn) (3.5.1)\n",
      "Requirement already satisfied: scipy>=1.0 in /opt/conda/lib/python3.8/site-packages (from seaborn) (1.6.3)\n",
      "Requirement already satisfied: pandas>=0.23 in /opt/conda/lib/python3.8/site-packages (from seaborn) (1.3.5)\n",
      "Requirement already satisfied: python-dateutil>=2.7 in /opt/conda/lib/python3.8/site-packages (from matplotlib>=2.2->seaborn) (2.8.2)\n",
      "Requirement already satisfied: cycler>=0.10 in /opt/conda/lib/python3.8/site-packages (from matplotlib>=2.2->seaborn) (0.11.0)\n",
      "Requirement already satisfied: pyparsing>=2.2.1 in /opt/conda/lib/python3.8/site-packages (from matplotlib>=2.2->seaborn) (3.0.7)\n",
      "Requirement already satisfied: packaging>=20.0 in /opt/conda/lib/python3.8/site-packages (from matplotlib>=2.2->seaborn) (21.3)\n",
      "Requirement already satisfied: fonttools>=4.22.0 in /opt/conda/lib/python3.8/site-packages (from matplotlib>=2.2->seaborn) (4.29.1)\n",
      "Requirement already satisfied: pillow>=6.2.0 in /opt/conda/lib/python3.8/site-packages (from matplotlib>=2.2->seaborn) (9.0.0)\n",
      "Requirement already satisfied: kiwisolver>=1.0.1 in /opt/conda/lib/python3.8/site-packages (from matplotlib>=2.2->seaborn) (1.3.2)\n",
      "Requirement already satisfied: pytz>=2017.3 in /opt/conda/lib/python3.8/site-packages (from pandas>=0.23->seaborn) (2021.3)\n",
      "Requirement already satisfied: six>=1.5 in /opt/conda/lib/python3.8/site-packages (from python-dateutil>=2.7->matplotlib>=2.2->seaborn) (1.16.0)\n",
      "Installing collected packages: seaborn\n",
      "Successfully installed seaborn-0.11.2\n",
      "\u001b[33mWARNING: Running pip as the 'root' user can result in broken permissions and conflicting behaviour with the system package manager. It is recommended to use a virtual environment instead: https://pip.pypa.io/warnings/venv\u001b[0m\n"
     ]
    }
   ],
   "source": [
    "!pip install seaborn"
   ]
  },
  {
   "cell_type": "code",
   "execution_count": 2,
   "id": "37bb5304-b3e5-4cd5-8d75-766251ec6129",
   "metadata": {},
   "outputs": [
    {
     "name": "stdout",
     "output_type": "stream",
     "text": [
      "Looking in indexes: https://pypi.org/simple, https://pypi.ngc.nvidia.com\n",
      "Collecting contractions\n",
      "  Downloading contractions-0.1.72-py2.py3-none-any.whl (8.3 kB)\n",
      "Collecting textsearch>=0.0.21\n",
      "  Downloading textsearch-0.0.21-py2.py3-none-any.whl (7.5 kB)\n",
      "Collecting pyahocorasick\n",
      "  Downloading pyahocorasick-1.4.4-cp38-cp38-manylinux_2_17_x86_64.manylinux2014_x86_64.whl (110 kB)\n",
      "\u001b[K     |████████████████████████████████| 110 kB 24.5 MB/s eta 0:00:01\n",
      "\u001b[?25hCollecting anyascii\n",
      "  Downloading anyascii-0.3.1-py3-none-any.whl (287 kB)\n",
      "\u001b[K     |████████████████████████████████| 287 kB 27.3 MB/s eta 0:00:01\n",
      "\u001b[?25hInstalling collected packages: pyahocorasick, anyascii, textsearch, contractions\n",
      "Successfully installed anyascii-0.3.1 contractions-0.1.72 pyahocorasick-1.4.4 textsearch-0.0.21\n",
      "\u001b[33mWARNING: Running pip as the 'root' user can result in broken permissions and conflicting behaviour with the system package manager. It is recommended to use a virtual environment instead: https://pip.pypa.io/warnings/venv\u001b[0m\n"
     ]
    }
   ],
   "source": [
    "!pip install contractions"
   ]
  },
  {
   "cell_type": "code",
   "execution_count": 3,
   "id": "e88ad6fd-058b-4eb8-a1a3-44dce8c1f066",
   "metadata": {},
   "outputs": [],
   "source": [
    "train_file = \"data/train_14k_split_conll.txt\"\n",
    "test_file = \"data/dev_3k_split_conll.txt\""
   ]
  },
  {
   "cell_type": "code",
   "execution_count": 4,
   "id": "42d392c3-af26-4dbc-9489-5911d221cb65",
   "metadata": {},
   "outputs": [
    {
     "name": "stdout",
     "output_type": "stream",
     "text": [
      "Looking in indexes: https://pypi.org/simple, https://pypi.ngc.nvidia.com\n",
      "Collecting wandb\n",
      "  Downloading wandb-0.12.18-py2.py3-none-any.whl (1.8 MB)\n",
      "\u001b[K     |████████████████████████████████| 1.8 MB 22.8 MB/s eta 0:00:01\n",
      "\u001b[?25hCollecting shortuuid>=0.5.0\n",
      "  Downloading shortuuid-1.0.9-py3-none-any.whl (9.4 kB)\n",
      "Collecting sentry-sdk>=1.0.0\n",
      "  Downloading sentry_sdk-1.5.12-py2.py3-none-any.whl (145 kB)\n",
      "\u001b[K     |████████████████████████████████| 145 kB 29.3 MB/s eta 0:00:01\n",
      "\u001b[?25hRequirement already satisfied: protobuf<4.0dev,>=3.12.0 in /opt/conda/lib/python3.8/site-packages (from wandb) (3.19.4)\n",
      "Requirement already satisfied: PyYAML in /opt/conda/lib/python3.8/site-packages (from wandb) (5.4.1)\n",
      "Collecting pathtools\n",
      "  Downloading pathtools-0.1.2.tar.gz (11 kB)\n",
      "Requirement already satisfied: requests<3,>=2.0.0 in /opt/conda/lib/python3.8/site-packages (from wandb) (2.26.0)\n",
      "Requirement already satisfied: psutil>=5.0.0 in /opt/conda/lib/python3.8/site-packages (from wandb) (5.9.0)\n",
      "Collecting setproctitle\n",
      "  Downloading setproctitle-1.2.3-cp38-cp38-manylinux_2_5_x86_64.manylinux1_x86_64.manylinux_2_17_x86_64.manylinux2014_x86_64.whl (29 kB)\n",
      "Requirement already satisfied: six>=1.13.0 in /opt/conda/lib/python3.8/site-packages (from wandb) (1.16.0)\n",
      "Collecting docker-pycreds>=0.4.0\n",
      "  Downloading docker_pycreds-0.4.0-py2.py3-none-any.whl (9.0 kB)\n",
      "Collecting GitPython>=1.0.0\n",
      "  Downloading GitPython-3.1.27-py3-none-any.whl (181 kB)\n",
      "\u001b[K     |████████████████████████████████| 181 kB 26.3 MB/s eta 0:00:01\n",
      "\u001b[?25hCollecting promise<3,>=2.0\n",
      "  Downloading promise-2.3.tar.gz (19 kB)\n",
      "Requirement already satisfied: setuptools in /opt/conda/lib/python3.8/site-packages (from wandb) (59.5.0)\n",
      "Requirement already satisfied: Click!=8.0.0,>=7.0 in /opt/conda/lib/python3.8/site-packages (from wandb) (8.0.3)\n",
      "Collecting gitdb<5,>=4.0.1\n",
      "  Downloading gitdb-4.0.9-py3-none-any.whl (63 kB)\n",
      "\u001b[K     |████████████████████████████████| 63 kB 37.0 MB/s eta 0:00:01\n",
      "\u001b[?25hCollecting smmap<6,>=3.0.1\n",
      "  Downloading smmap-5.0.0-py3-none-any.whl (24 kB)\n",
      "Requirement already satisfied: certifi>=2017.4.17 in /opt/conda/lib/python3.8/site-packages (from requests<3,>=2.0.0->wandb) (2021.10.8)\n",
      "Requirement already satisfied: charset-normalizer~=2.0.0 in /opt/conda/lib/python3.8/site-packages (from requests<3,>=2.0.0->wandb) (2.0.9)\n",
      "Requirement already satisfied: idna<4,>=2.5 in /opt/conda/lib/python3.8/site-packages (from requests<3,>=2.0.0->wandb) (3.1)\n",
      "Requirement already satisfied: urllib3<1.27,>=1.21.1 in /opt/conda/lib/python3.8/site-packages (from requests<3,>=2.0.0->wandb) (1.26.7)\n",
      "Building wheels for collected packages: promise, pathtools\n",
      "  Building wheel for promise (setup.py) ... \u001b[?25ldone\n",
      "\u001b[?25h  Created wheel for promise: filename=promise-2.3-py3-none-any.whl size=21503 sha256=c80dd883808464f598e355a6fce31259bfae5c1d8882c632d3aafa0878c3ae29\n",
      "  Stored in directory: /tmp/pip-ephem-wheel-cache-dec7cr2e/wheels/54/aa/01/724885182f93150035a2a91bce34a12877e8067a97baaf5dc8\n",
      "  Building wheel for pathtools (setup.py) ... \u001b[?25ldone\n",
      "\u001b[?25h  Created wheel for pathtools: filename=pathtools-0.1.2-py3-none-any.whl size=8807 sha256=e0b1449464d2ca5ce1a0ce7ec4d2a9f807ab52d2a4ff5f04c2f9da03b0efaa72\n",
      "  Stored in directory: /tmp/pip-ephem-wheel-cache-dec7cr2e/wheels/4c/8e/7e/72fbc243e1aeecae64a96875432e70d4e92f3d2d18123be004\n",
      "Successfully built promise pathtools\n",
      "Installing collected packages: smmap, gitdb, shortuuid, setproctitle, sentry-sdk, promise, pathtools, GitPython, docker-pycreds, wandb\n",
      "Successfully installed GitPython-3.1.27 docker-pycreds-0.4.0 gitdb-4.0.9 pathtools-0.1.2 promise-2.3 sentry-sdk-1.5.12 setproctitle-1.2.3 shortuuid-1.0.9 smmap-5.0.0 wandb-0.12.18\n",
      "\u001b[33mWARNING: Running pip as the 'root' user can result in broken permissions and conflicting behaviour with the system package manager. It is recommended to use a virtual environment instead: https://pip.pypa.io/warnings/venv\u001b[0m\n"
     ]
    }
   ],
   "source": [
    "!pip install wandb"
   ]
  },
  {
   "cell_type": "code",
   "execution_count": 5,
   "id": "9d8b613d-8a02-4711-91d3-c844f339e80b",
   "metadata": {},
   "outputs": [],
   "source": [
    "import re\n",
    "import time\n",
    "import string\n",
    "import contractions\n",
    "import numpy as np\n",
    "import pandas as pd\n",
    "\n",
    "from collections import Counter\n",
    "from sklearn.model_selection import train_test_split\n",
    "from sklearn import metrics\n",
    "\n",
    "import torch\n",
    "import torch.nn as nn\n",
    "import torch.optim as optim\n",
    "from torch.utils.data import Dataset, DataLoader\n",
    "\n",
    "import wandb\n",
    "import seaborn as sns\n",
    "sns.set_theme(style=\"darkgrid\")\n",
    "import matplotlib.pyplot as plt\n",
    "%matplotlib inline"
   ]
  },
  {
   "cell_type": "code",
   "execution_count": 6,
   "id": "b2919d17-5b8c-461b-8224-be1554d5aa85",
   "metadata": {},
   "outputs": [
    {
     "name": "stderr",
     "output_type": "stream",
     "text": [
      "\u001b[34m\u001b[1mwandb\u001b[0m: Logging into wandb.ai. (Learn how to deploy a W&B server locally: https://wandb.me/wandb-server)\n",
      "\u001b[34m\u001b[1mwandb\u001b[0m: You can find your API key in your browser here: https://wandb.ai/authorize\n"
     ]
    },
    {
     "name": "stdin",
     "output_type": "stream",
     "text": [
      "\u001b[34m\u001b[1mwandb\u001b[0m: Paste an API key from your profile and hit enter, or press ctrl+c to quit:  ········································\n"
     ]
    },
    {
     "name": "stderr",
     "output_type": "stream",
     "text": [
      "\u001b[34m\u001b[1mwandb\u001b[0m: Appending key for api.wandb.ai to your netrc file: /root/.netrc\n"
     ]
    },
    {
     "data": {
      "text/plain": [
       "True"
      ]
     },
     "execution_count": 6,
     "metadata": {},
     "output_type": "execute_result"
    }
   ],
   "source": [
    "wandb.login()"
   ]
  },
  {
   "cell_type": "code",
   "execution_count": 7,
   "id": "4e61f625-5860-41a2-8675-6ff2be694e6e",
   "metadata": {},
   "outputs": [],
   "source": [
    "from pathlib import Path"
   ]
  },
  {
   "cell_type": "code",
   "execution_count": 9,
   "id": "660f8c7b-d2ba-46e4-b7fc-e7b76c01845a",
   "metadata": {},
   "outputs": [
    {
     "data": {
      "text/html": [
       "Finishing last run (ID:1wa5zyfu) before initializing another..."
      ],
      "text/plain": [
       "<IPython.core.display.HTML object>"
      ]
     },
     "metadata": {},
     "output_type": "display_data"
    },
    {
     "data": {
      "text/html": [
       "Waiting for W&B process to finish... <strong style=\"color:green\">(success).</strong>"
      ],
      "text/plain": [
       "<IPython.core.display.HTML object>"
      ]
     },
     "metadata": {},
     "output_type": "display_data"
    },
    {
     "data": {
      "application/vnd.jupyter.widget-view+json": {
       "model_id": "",
       "version_major": 2,
       "version_minor": 0
      },
      "text/plain": [
       "VBox(children=(Label(value='0.001 MB of 0.001 MB uploaded (0.000 MB deduped)\\r'), FloatProgress(value=1.0, max…"
      ]
     },
     "metadata": {},
     "output_type": "display_data"
    },
    {
     "data": {
      "text/html": [
       "Synced <strong style=\"color:#cdcd00\">ruby-fog-1</strong>: <a href=\"https://wandb.ai/alokpadhi/Sentiment%20Analysis-Hinglish/runs/1wa5zyfu\" target=\"_blank\">https://wandb.ai/alokpadhi/Sentiment%20Analysis-Hinglish/runs/1wa5zyfu</a><br/>Synced 4 W&B file(s), 0 media file(s), 0 artifact file(s) and 0 other file(s)"
      ],
      "text/plain": [
       "<IPython.core.display.HTML object>"
      ]
     },
     "metadata": {},
     "output_type": "display_data"
    },
    {
     "data": {
      "text/html": [
       "Find logs at: <code>./wandb/run-20220619_173514-1wa5zyfu/logs</code>"
      ],
      "text/plain": [
       "<IPython.core.display.HTML object>"
      ]
     },
     "metadata": {},
     "output_type": "display_data"
    },
    {
     "data": {
      "text/html": [
       "Successfully finished last run (ID:1wa5zyfu). Initializing new run:<br/>"
      ],
      "text/plain": [
       "<IPython.core.display.HTML object>"
      ]
     },
     "metadata": {},
     "output_type": "display_data"
    },
    {
     "data": {
      "text/html": [
       "Tracking run with wandb version 0.12.18"
      ],
      "text/plain": [
       "<IPython.core.display.HTML object>"
      ]
     },
     "metadata": {},
     "output_type": "display_data"
    },
    {
     "data": {
      "text/html": [
       "Run data is saved locally in <code>/notebooks/wandb/run-20220619_173543-3rxv0ijv</code>"
      ],
      "text/plain": [
       "<IPython.core.display.HTML object>"
      ]
     },
     "metadata": {},
     "output_type": "display_data"
    },
    {
     "data": {
      "text/html": [
       "Syncing run <strong><a href=\"https://wandb.ai/alokpadhi/Sentiment%20Analysis-Hinglish/runs/3rxv0ijv\" target=\"_blank\">fanciful-durian-2</a></strong> to <a href=\"https://wandb.ai/alokpadhi/Sentiment%20Analysis-Hinglish\" target=\"_blank\">Weights & Biases</a> (<a href=\"https://wandb.me/run\" target=\"_blank\">docs</a>)<br/>"
      ],
      "text/plain": [
       "<IPython.core.display.HTML object>"
      ]
     },
     "metadata": {},
     "output_type": "display_data"
    },
    {
     "name": "stderr",
     "output_type": "stream",
     "text": [
      "\u001b[34m\u001b[1mwandb\u001b[0m: Adding directory to artifact (./data)... Done. 0.1s\n"
     ]
    },
    {
     "data": {
      "text/plain": [
       "<wandb.sdk.wandb_artifacts.Artifact at 0x7f6b460d60d0>"
      ]
     },
     "execution_count": 9,
     "metadata": {},
     "output_type": "execute_result"
    }
   ],
   "source": [
    "run = wandb.init(project=\"Sentiment Analysis-Hinglish\", entity=\"alokpadhi\")\n",
    "raw_data = wandb.Artifact(\"Train-Test-Data\", type=\"raw_data\")\n",
    "raw_data.add_dir(Path(\"data/\"))\n",
    "run.log_artifact(raw_data)"
   ]
  },
  {
   "cell_type": "code",
   "execution_count": 25,
   "id": "eee69778-1e7a-43ad-90b2-e3a970cd9b47",
   "metadata": {},
   "outputs": [],
   "source": [
    "# read the files\n",
    "with open(train_file) as f:\n",
    "    train_data = f.readlines()\n",
    "    \n",
    "with open(test_file, 'r') as f:\n",
    "    test_data = f.readlines()"
   ]
  },
  {
   "cell_type": "code",
   "execution_count": 26,
   "id": "8d48c5ce-8e21-4ab7-ac3d-aa707b4e15ab",
   "metadata": {},
   "outputs": [],
   "source": [
    "import random"
   ]
  },
  {
   "cell_type": "code",
   "execution_count": 29,
   "id": "29c41af2-7a88-4229-a413-b7173a295fe1",
   "metadata": {},
   "outputs": [
    {
     "data": {
      "text/plain": [
       "'Bhai\\tHin\\n'"
      ]
     },
     "execution_count": 29,
     "metadata": {},
     "output_type": "execute_result"
    }
   ],
   "source": [
    "# check the data\n",
    "train_data[random.randint(0, len(train_data))]"
   ]
  },
  {
   "cell_type": "code",
   "execution_count": 45,
   "id": "0bfaedca-e49a-4fcf-bdb7-5b9abc1f0995",
   "metadata": {},
   "outputs": [
    {
     "data": {
      "text/plain": [
       "['meta\\t4330\\tneutral\\n',\n",
       " 'nen\\tEng\\n',\n",
       " 'á\\tO\\n',\n",
       " 'vist\\tEng\\n',\n",
       " 'bolest\\tEng\\n',\n",
       " 'vztek\\tEng\\n',\n",
       " 'smutek\\tEng\\n',\n",
       " 'zmatek\\tHin\\n',\n",
       " 'osam\\tHin\\n',\n",
       " 'ě\\tO\\n',\n",
       " 'lost\\tEng\\n',\n",
       " 'beznad\\tEng\\n',\n",
       " 'ě\\tO\\n',\n",
       " 'j\\tHin\\n',\n",
       " 'a\\tEng\\n',\n",
       " 'nakonec\\tEng\\n',\n",
       " 'jen\\tHin\\n',\n",
       " 'klid\\tHin\\n',\n",
       " 'Asi\\tHin\\n',\n",
       " 'takhle\\tHin\\n',\n",
       " 'vypad\\tHin\\n',\n",
       " 'á\\tO\\n',\n",
       " 'm\\tHin\\n',\n",
       " 'ů\\tO\\n',\n",
       " 'j\\tEng\\n',\n",
       " 'life\\tEng\\n',\n",
       " '...\\tO\\n',\n",
       " '\\n',\n",
       " 'meta\\t41616\\tneutral\\n',\n",
       " '@\\tO\\n']"
      ]
     },
     "execution_count": 45,
     "metadata": {},
     "output_type": "execute_result"
    }
   ],
   "source": [
    "train_data[:30]"
   ]
  },
  {
   "cell_type": "code",
   "execution_count": 34,
   "id": "29ec5343-5282-4c97-87c2-eb8690377545",
   "metadata": {},
   "outputs": [],
   "source": [
    "# Parse the data\n",
    "def parse_data(data):\n",
    "    sentences, sentences_info, sentiment = [], [], []\n",
    "    all_langs = []\n",
    "    \n",
    "    single_sentence, single_sentence_info = [], []\n",
    "    sent = \"\"\n",
    "    \n",
    "    for i, line in enumerate(data):\n",
    "        line_ = line.strip()\n",
    "        tokens = line_.split('\\t')\n",
    "        num_tokens = len(tokens)\n",
    "        if num_tokens == 2:\n",
    "            # add the word\n",
    "            single_sentence.append(tokens[0])\n",
    "            # add the language\n",
    "            single_sentence_info.append(tokens[1])\n",
    "            all_langs.append(tokens[1])\n",
    "        elif num_tokens == 3 and i > 0:\n",
    "            sentences.append(single_sentence)\n",
    "            sentences_info.append(single_sentence_info)\n",
    "            sentiment.append(sent)\n",
    "            sent = tokens[-1]\n",
    "            single_sentence = []\n",
    "            single_sentence_info = []\n",
    "        elif num_tokens == 1:\n",
    "            continue\n",
    "        else:\n",
    "            sent = tokens[-1]\n",
    "            \n",
    "    if len(single_sentence) > 0:\n",
    "        sentences.append(single_sentence)\n",
    "        sentences_info.append(single_sentence_info)\n",
    "        sentiment.append(sent)\n",
    "        \n",
    "    assert len(sentences) == len(sentences_info) == len(sentiment)\n",
    "    return sentences, sentences_info, sentiment, all_langs"
   ]
  },
  {
   "cell_type": "code",
   "execution_count": 35,
   "id": "0e5966ed-8a47-4b18-a54c-427aa4cf123e",
   "metadata": {},
   "outputs": [],
   "source": [
    "sentences, sentences_info, sentiment, all_langs = parse_data(train_data)"
   ]
  },
  {
   "cell_type": "code",
   "execution_count": 37,
   "id": "f36ca318-7ef5-408f-92d8-9627e642ef6b",
   "metadata": {},
   "outputs": [],
   "source": [
    "test_sentences, test_sentences_info, test_sentiment, test_all_langs = parse_data(test_data)"
   ]
  },
  {
   "cell_type": "code",
   "execution_count": 38,
   "id": "61e9166a-ee3e-470d-83c3-5700afaeedf3",
   "metadata": {},
   "outputs": [
    {
     "data": {
      "text/plain": [
       "14000"
      ]
     },
     "execution_count": 38,
     "metadata": {},
     "output_type": "execute_result"
    }
   ],
   "source": [
    "len(sentiment)"
   ]
  },
  {
   "cell_type": "code",
   "execution_count": 39,
   "id": "44aca097-adbf-4f4c-9de8-09410be174ec",
   "metadata": {},
   "outputs": [
    {
     "name": "stderr",
     "output_type": "stream",
     "text": [
      "/opt/conda/lib/python3.8/site-packages/seaborn/_decorators.py:36: FutureWarning: Pass the following variable as a keyword arg: x. From version 0.12, the only valid positional argument will be `data`, and passing other arguments without an explicit keyword will result in an error or misinterpretation.\n",
      "  warnings.warn(\n"
     ]
    },
    {
     "data": {
      "text/plain": [
       "<AxesSubplot:ylabel='count'>"
      ]
     },
     "execution_count": 39,
     "metadata": {},
     "output_type": "execute_result"
    },
    {
     "data": {
      "image/png": "[encoded data removed]",
      "text/plain": [
       "<Figure size 432x288 with 1 Axes>"
      ]
     },
     "metadata": {
      "needs_background": "light"
     },
     "output_type": "display_data"
    }
   ],
   "source": [
    "# Language count plot\n",
    "sns.countplot(all_langs)"
   ]
  },
  {
   "cell_type": "code",
   "execution_count": 40,
   "id": "dcf65d3e-5e44-47f1-8e72-450b5872afdf",
   "metadata": {},
   "outputs": [
    {
     "name": "stderr",
     "output_type": "stream",
     "text": [
      "/opt/conda/lib/python3.8/site-packages/seaborn/_decorators.py:36: FutureWarning: Pass the following variable as a keyword arg: x. From version 0.12, the only valid positional argument will be `data`, and passing other arguments without an explicit keyword will result in an error or misinterpretation.\n",
      "  warnings.warn(\n"
     ]
    },
    {
     "data": {
      "text/plain": [
       "<AxesSubplot:ylabel='count'>"
      ]
     },
     "execution_count": 40,
     "metadata": {},
     "output_type": "execute_result"
    },
    {
     "data": {
      "image/png": "[encoded data removed]",
      "text/plain": [
       "<Figure size 432x288 with 1 Axes>"
      ]
     },
     "metadata": {
      "needs_background": "light"
     },
     "output_type": "display_data"
    }
   ],
   "source": [
    "# sentiment count plot\n",
    "sns.countplot(sentiment)"
   ]
  },
  {
   "cell_type": "code",
   "execution_count": 41,
   "id": "98ecc408-3521-4ddb-9fd5-cedff2c5dc89",
   "metadata": {},
   "outputs": [],
   "source": [
    "token_lengths = [len(sent) for sent in sentences]"
   ]
  },
  {
   "cell_type": "code",
   "execution_count": 42,
   "id": "aca097f3-f680-4cab-8828-b4a4da9ea072",
   "metadata": {},
   "outputs": [
    {
     "name": "stderr",
     "output_type": "stream",
     "text": [
      "/opt/conda/lib/python3.8/site-packages/seaborn/_decorators.py:36: FutureWarning: Pass the following variable as a keyword arg: x. From version 0.12, the only valid positional argument will be `data`, and passing other arguments without an explicit keyword will result in an error or misinterpretation.\n",
      "  warnings.warn(\n"
     ]
    },
    {
     "data": {
      "text/plain": [
       "<AxesSubplot:ylabel='count'>"
      ]
     },
     "execution_count": 42,
     "metadata": {},
     "output_type": "execute_result"
    },
    {
     "data": {
      "image/png": "[encoded data removed]",
      "text/plain": [
       "<Figure size 1080x648 with 1 Axes>"
      ]
     },
     "metadata": {
      "needs_background": "light"
     },
     "output_type": "display_data"
    }
   ],
   "source": [
    "# sentence length distrubution\n",
    "plt.figure(figsize=(15,9))\n",
    "sns.countplot(token_lengths)"
   ]
  },
  {
   "cell_type": "code",
   "execution_count": 43,
   "id": "2065b90e-37da-4b51-8828-d4dba971998a",
   "metadata": {},
   "outputs": [
    {
     "data": {
      "text/plain": [
       "['nen',\n",
       " 'á',\n",
       " 'vist',\n",
       " 'bolest',\n",
       " 'vztek',\n",
       " 'smutek',\n",
       " 'zmatek',\n",
       " 'osam',\n",
       " 'ě',\n",
       " 'lost',\n",
       " 'beznad',\n",
       " 'ě',\n",
       " 'j',\n",
       " 'a',\n",
       " 'nakonec',\n",
       " 'jen',\n",
       " 'klid',\n",
       " 'Asi',\n",
       " 'takhle',\n",
       " 'vypad',\n",
       " 'á',\n",
       " 'm',\n",
       " 'ů',\n",
       " 'j',\n",
       " 'life',\n",
       " '...']"
      ]
     },
     "execution_count": 43,
     "metadata": {},
     "output_type": "execute_result"
    }
   ],
   "source": [
    "sentences[0]"
   ]
  },
  {
   "cell_type": "code",
   "execution_count": 52,
   "id": "e963abe9-6af9-4f9a-91c2-922e2162dc85",
   "metadata": {},
   "outputs": [
    {
     "data": {
      "text/plain": [
       "'test'"
      ]
     },
     "execution_count": 52,
     "metadata": {},
     "output_type": "execute_result"
    }
   ],
   "source": [
    "a = re.sub(\"\\sRT\\s\", \"\", \"test RT \")\n",
    "a"
   ]
  },
  {
   "cell_type": "code",
   "execution_count": 69,
   "id": "9fd3c927-941e-4f97-b2cf-5148401157bc",
   "metadata": {},
   "outputs": [],
   "source": [
    "# Data Preprocessing\n",
    "url_pattern = r'https(.*)/\\s\\w+'\n",
    "names_with_numbers = r'([A-Za-z]+)\\d{3,}'\n",
    "apostee = r\"([\\w]+)\\s'\\s([\\w]+)\"\n",
    "names = r\"@[\\s]*[\\w]+[\\s]*[_]+[\\s]*[\\w]+|@[\\s]*[\\w]+\"\n",
    "\n",
    "def preprocess_data(sentence_tokens):\n",
    "    sentence = \" \".join(sentence_tokens)\n",
    "    sentence = \" \" + sentence\n",
    "    \n",
    "    # Remove RT and ...\n",
    "    sentence = re.sub(\"\\sRT\\s\", \"\", sentence)\n",
    "    sentence = sentence.replace(\"…\", \"\")\n",
    "    sentence = re.sub(re.compile(names), \" \", sentence)\n",
    "    sentence = re.sub(re.compile(url_pattern), \"\", sentence)\n",
    "    sentence = re.sub(re.compile(apostee), r\"\\1'\\2\", sentence)\n",
    "    \n",
    "    # fixing contractions\n",
    "    sentence = contractions.fix(sentence)\n",
    "    \n",
    "    sentence = re.sub(re.compile(names_with_numbers), r\" \", sentence)\n",
    "    \n",
    "    sentence = \" \".join(sentence.split()).strip()\n",
    "    return sentence"
   ]
  },
  {
   "cell_type": "code",
   "execution_count": 70,
   "id": "64754105-200f-4b70-8dd4-dadad64ce690",
   "metadata": {},
   "outputs": [
    {
     "data": {
      "text/plain": [
       "'@ nehantics Haan yaar neha 😔😔 kab karega woh post 😭 Usne na sach mein photoshoot karna chahiye phir woh post karega … https // tco / 5RSlSbZNtt'"
      ]
     },
     "execution_count": 70,
     "metadata": {},
     "output_type": "execute_result"
    }
   ],
   "source": [
    "\" \".join(sentences[1])"
   ]
  },
  {
   "cell_type": "code",
   "execution_count": 71,
   "id": "bcf455a5-58f6-4c9a-8b58-6a7d60cc3d8f",
   "metadata": {},
   "outputs": [
    {
     "data": {
      "text/plain": [
       "'Haan yaar neha 😔😔 kab karega woh post 😭 Usne na sach mein photoshoot karna chahiye phir woh post karega'"
      ]
     },
     "execution_count": 71,
     "metadata": {},
     "output_type": "execute_result"
    }
   ],
   "source": [
    "preprocess_data(sentences[1])"
   ]
  },
  {
   "cell_type": "code",
   "execution_count": 72,
   "id": "f8c7b7d9-86e0-432f-9072-47af62527a9b",
   "metadata": {},
   "outputs": [],
   "source": [
    "# preprocess all training samples\n",
    "processed_sentences = []\n",
    "for sent in sentences:\n",
    "    processed_sentences.append(preprocess_data(sent))"
   ]
  },
  {
   "cell_type": "code",
   "execution_count": 73,
   "id": "4e45a683-f2db-40d2-992e-a3f44fba1c24",
   "metadata": {},
   "outputs": [],
   "source": [
    "test_processed_sentences = []\n",
    "for sent in test_sentences:\n",
    "    test_processed_sentences.append(preprocess_data(sent))"
   ]
  },
  {
   "cell_type": "code",
   "execution_count": 74,
   "id": "76f010ee-ddf8-4f1b-9b7b-12130f401d86",
   "metadata": {},
   "outputs": [],
   "source": [
    "sentiment_mapping = {\n",
    "    \"positive\": 0,\n",
    "    \"negative\": 1,\n",
    "    \"neutral\": 2\n",
    "}"
   ]
  },
  {
   "cell_type": "code",
   "execution_count": 75,
   "id": "bb81b5e1-b234-4b43-ade8-12b46e4e168d",
   "metadata": {},
   "outputs": [],
   "source": [
    "labels = [sentiment_mapping[sent] for sent in sentiment]\n",
    "test_labels = [sentiment_mapping[sent] for sent in test_sentiment]"
   ]
  },
  {
   "cell_type": "code",
   "execution_count": 76,
   "id": "d5971574-e7b9-4940-9224-1d10251ef4e9",
   "metadata": {},
   "outputs": [],
   "source": [
    "# Create train and test dataframe with processed data for future use\n",
    "assert len(processed_sentences) == len(labels) == len(sentiment)\n",
    "train_dataset = list(zip(processed_sentences, sentiment, labels))"
   ]
  },
  {
   "cell_type": "code",
   "execution_count": 80,
   "id": "86705daa-8de1-49b3-b1d2-9adcf47af16d",
   "metadata": {},
   "outputs": [],
   "source": [
    "train_df = pd.DataFrame(train_dataset, columns=[\"Sentence\", \"Sentiment\", \"Sentence Label\"])"
   ]
  },
  {
   "cell_type": "code",
   "execution_count": 81,
   "id": "37d2c686-d00c-4728-a36e-f4d710274b30",
   "metadata": {},
   "outputs": [
    {
     "data": {
      "text/html": [
       "<div>\n",
       "<style scoped>\n",
       "    .dataframe tbody tr th:only-of-type {\n",
       "        vertical-align: middle;\n",
       "    }\n",
       "\n",
       "    .dataframe tbody tr th {\n",
       "        vertical-align: top;\n",
       "    }\n",
       "\n",
       "    .dataframe thead th {\n",
       "        text-align: right;\n",
       "    }\n",
       "</style>\n",
       "<table border=\"1\" class=\"dataframe\">\n",
       "  <thead>\n",
       "    <tr style=\"text-align: right;\">\n",
       "      <th></th>\n",
       "      <th>Sentence</th>\n",
       "      <th>Sentiment</th>\n",
       "      <th>Sentence Label</th>\n",
       "    </tr>\n",
       "  </thead>\n",
       "  <tbody>\n",
       "    <tr>\n",
       "      <th>0</th>\n",
       "      <td>nen á vist bolest vztek smutek zmatek osam ě l...</td>\n",
       "      <td>neutral</td>\n",
       "      <td>2</td>\n",
       "    </tr>\n",
       "    <tr>\n",
       "      <th>1</th>\n",
       "      <td>Haan yaar neha 😔😔 kab karega woh post 😭 Usne n...</td>\n",
       "      <td>neutral</td>\n",
       "      <td>2</td>\n",
       "    </tr>\n",
       "    <tr>\n",
       "      <th>2</th>\n",
       "      <td>television media congress ke liye nhi h . Ye t...</td>\n",
       "      <td>negative</td>\n",
       "      <td>1</td>\n",
       "    </tr>\n",
       "    <tr>\n",
       "      <th>3</th>\n",
       "      <td>All India me nrc lagu kare w Kashmir se dhara ...</td>\n",
       "      <td>positive</td>\n",
       "      <td>0</td>\n",
       "    </tr>\n",
       "    <tr>\n",
       "      <th>4</th>\n",
       "      <td>Pagal hai kya ? They aren ’ t real issues Mand...</td>\n",
       "      <td>neutral</td>\n",
       "      <td>2</td>\n",
       "    </tr>\n",
       "  </tbody>\n",
       "</table>\n",
       "</div>"
      ],
      "text/plain": [
       "                                            Sentence Sentiment  Sentence Label\n",
       "0  nen á vist bolest vztek smutek zmatek osam ě l...   neutral               2\n",
       "1  Haan yaar neha 😔😔 kab karega woh post 😭 Usne n...   neutral               2\n",
       "2  television media congress ke liye nhi h . Ye t...  negative               1\n",
       "3  All India me nrc lagu kare w Kashmir se dhara ...  positive               0\n",
       "4  Pagal hai kya ? They aren ’ t real issues Mand...   neutral               2"
      ]
     },
     "execution_count": 81,
     "metadata": {},
     "output_type": "execute_result"
    }
   ],
   "source": [
    "train_df.head()"
   ]
  },
  {
   "cell_type": "code",
   "execution_count": 83,
   "id": "ffbf6ea0-d168-4b98-b227-6977bd8d7bf3",
   "metadata": {},
   "outputs": [
    {
     "data": {
      "text/html": [
       "<div>\n",
       "<style scoped>\n",
       "    .dataframe tbody tr th:only-of-type {\n",
       "        vertical-align: middle;\n",
       "    }\n",
       "\n",
       "    .dataframe tbody tr th {\n",
       "        vertical-align: top;\n",
       "    }\n",
       "\n",
       "    .dataframe thead th {\n",
       "        text-align: right;\n",
       "    }\n",
       "</style>\n",
       "<table border=\"1\" class=\"dataframe\">\n",
       "  <thead>\n",
       "    <tr style=\"text-align: right;\">\n",
       "      <th></th>\n",
       "      <th>Sentence</th>\n",
       "      <th>Sentiment</th>\n",
       "      <th>Sentence Label</th>\n",
       "    </tr>\n",
       "  </thead>\n",
       "  <tbody>\n",
       "    <tr>\n",
       "      <th>0</th>\n",
       "      <td>modi mantrimandal may samil honay par badhai n...</td>\n",
       "      <td>positive</td>\n",
       "      <td>0</td>\n",
       "    </tr>\n",
       "    <tr>\n",
       "      <th>1</th>\n",
       "      <td>Tu toh naamakool hai Mare h</td>\n",
       "      <td>negative</td>\n",
       "      <td>1</td>\n",
       "    </tr>\n",
       "    <tr>\n",
       "      <th>2</th>\n",
       "      <td>YOU saw caste and religion in them ... nation ...</td>\n",
       "      <td>negative</td>\n",
       "      <td>1</td>\n",
       "    </tr>\n",
       "    <tr>\n",
       "      <th>3</th>\n",
       "      <td>sir local police station pe complaint krne par...</td>\n",
       "      <td>neutral</td>\n",
       "      <td>2</td>\n",
       "    </tr>\n",
       "    <tr>\n",
       "      <th>4</th>\n",
       "      <td>Ve Maahi song from # Kesari is current favouri...</td>\n",
       "      <td>positive</td>\n",
       "      <td>0</td>\n",
       "    </tr>\n",
       "  </tbody>\n",
       "</table>\n",
       "</div>"
      ],
      "text/plain": [
       "                                            Sentence Sentiment  Sentence Label\n",
       "0  modi mantrimandal may samil honay par badhai n...  positive               0\n",
       "1                        Tu toh naamakool hai Mare h  negative               1\n",
       "2  YOU saw caste and religion in them ... nation ...  negative               1\n",
       "3  sir local police station pe complaint krne par...   neutral               2\n",
       "4  Ve Maahi song from # Kesari is current favouri...  positive               0"
      ]
     },
     "execution_count": 83,
     "metadata": {},
     "output_type": "execute_result"
    }
   ],
   "source": [
    "# Create train and test dataframe with processed data for future use\n",
    "assert len(test_processed_sentences) == len(test_labels) == len(test_sentiment)\n",
    "test_dataset = list(zip(test_processed_sentences, test_sentiment, test_labels))\n",
    "\n",
    "test_df = pd.DataFrame(test_dataset, columns=[\"Sentence\", \"Sentiment\", \"Sentence Label\"])\n",
    "\n",
    "test_df.head()"
   ]
  },
  {
   "cell_type": "code",
   "execution_count": 84,
   "id": "7c33dfd6-92be-482f-8488-a5be048a1a93",
   "metadata": {},
   "outputs": [],
   "source": [
    "wandb.log({\"Process Train Dataframe\": wandb.Table(data=train_dataset, columns=[\"Sentence\", \"Sentiment\", \"Sentiment Label\"])})"
   ]
  },
  {
   "cell_type": "code",
   "execution_count": 85,
   "id": "ab923268-d48f-43ae-9ea5-4305fbe8ab5c",
   "metadata": {},
   "outputs": [],
   "source": [
    "wandb.log({\"Process Test Dataframe\": wandb.Table(data=test_dataset, columns=[\"Sentence\", \"Sentiment\", \"Sentiment Label\"])})"
   ]
  },
  {
   "cell_type": "code",
   "execution_count": 86,
   "id": "e0cac1a2-776f-42da-b1c6-6da9dfa7ae69",
   "metadata": {},
   "outputs": [],
   "source": [
    "train_data, val_data, train_label, val_label = train_test_split(processed_sentences, labels, test_size=0.25)"
   ]
  },
  {
   "cell_type": "code",
   "execution_count": 87,
   "id": "ad263ed9-85a4-40ef-b609-edb27c5dd71a",
   "metadata": {},
   "outputs": [
    {
     "name": "stdout",
     "output_type": "stream",
     "text": [
      "Training sample size: 10500\n",
      " Validation sample size: 3500\n"
     ]
    }
   ],
   "source": [
    "print(f\"Training sample size: {len(train_data)}\\n Validation sample size: {len(val_data)}\")"
   ]
  },
  {
   "cell_type": "code",
   "execution_count": 88,
   "id": "b3fa3a70-9f8c-4f79-8400-dd5a5ba0038a",
   "metadata": {},
   "outputs": [],
   "source": [
    "# Create the token vocab\n",
    "counter = Counter()\n",
    "for line in train_data:\n",
    "    tokens = line.strip().split()\n",
    "    counter.update(tokens)"
   ]
  },
  {
   "cell_type": "code",
   "execution_count": 89,
   "id": "cdcfe239-c947-4bf1-9bd3-ca1246c39346",
   "metadata": {},
   "outputs": [],
   "source": [
    "vocab = []\n",
    "for key in counter.most_common():\n",
    "    if key[1] > 15:\n",
    "        vocab.append(key[0])"
   ]
  },
  {
   "cell_type": "code",
   "execution_count": 90,
   "id": "da25361f-8673-4cd7-8121-423a5523af72",
   "metadata": {},
   "outputs": [
    {
     "data": {
      "text/plain": [
       "1466"
      ]
     },
     "execution_count": 90,
     "metadata": {},
     "output_type": "execute_result"
    }
   ],
   "source": [
    "len(vocab)"
   ]
  },
  {
   "cell_type": "code",
   "execution_count": 91,
   "id": "09c8b180-64cb-4373-9734-ef8bf70cd970",
   "metadata": {},
   "outputs": [
    {
     "name": "stdout",
     "output_type": "stream",
     "text": [
      "['.', 'hai', 'ki', 'to', 'ko']\n"
     ]
    }
   ],
   "source": [
    "print(vocab[:5])"
   ]
  },
  {
   "cell_type": "code",
   "execution_count": 92,
   "id": "4490a744-ecfa-45f7-a5ce-d30c86a51538",
   "metadata": {},
   "outputs": [],
   "source": [
    "from sklearn.feature_extraction.text import CountVectorizer"
   ]
  },
  {
   "cell_type": "code",
   "execution_count": 229,
   "id": "318c13cd-3973-4d3a-96e2-fc8eafffb426",
   "metadata": {},
   "outputs": [],
   "source": [
    "vectorizer = CountVectorizer(min_df=15)"
   ]
  },
  {
   "cell_type": "code",
   "execution_count": 230,
   "id": "9b76ae96-4ca2-4a0c-bf94-e64474dafe4d",
   "metadata": {},
   "outputs": [
    {
     "data": {
      "text/plain": [
       "'mujhe to nahi lagta koi darta hai . ye hi log hain jo Desh k logo ko darne or darane ki ra'"
      ]
     },
     "execution_count": 230,
     "metadata": {},
     "output_type": "execute_result"
    }
   ],
   "source": [
    "train_data[0]"
   ]
  },
  {
   "cell_type": "code",
   "execution_count": 231,
   "id": "94d0d684-ba7d-490d-b5c6-f01daf49ed68",
   "metadata": {},
   "outputs": [],
   "source": [
    "train_X = vectorizer.fit_transform(train_data)"
   ]
  },
  {
   "cell_type": "code",
   "execution_count": 232,
   "id": "498fa8d0-4847-4cad-8000-c66254d7f802",
   "metadata": {},
   "outputs": [
    {
     "data": {
      "text/plain": [
       "(1, 1331)"
      ]
     },
     "execution_count": 232,
     "metadata": {},
     "output_type": "execute_result"
    }
   ],
   "source": [
    "train_X[0].shape"
   ]
  },
  {
   "cell_type": "code",
   "execution_count": 233,
   "id": "a6e785b2-01f2-481b-bdbb-8d86e9e4a610",
   "metadata": {},
   "outputs": [
    {
     "data": {
      "text/plain": [
       "(10500, 1331)"
      ]
     },
     "execution_count": 233,
     "metadata": {},
     "output_type": "execute_result"
    }
   ],
   "source": [
    "train_X.toarray().shape"
   ]
  },
  {
   "cell_type": "code",
   "execution_count": 234,
   "id": "3803bf3f-b1ba-4c7a-9cf0-bf80f6e38e2f",
   "metadata": {},
   "outputs": [
    {
     "data": {
      "text/plain": [
       "torch.Size([10500, 1331])"
      ]
     },
     "execution_count": 234,
     "metadata": {},
     "output_type": "execute_result"
    }
   ],
   "source": [
    "train_input = torch.FloatTensor(train_X.toarray())\n",
    "train_input.shape"
   ]
  },
  {
   "cell_type": "code",
   "execution_count": 235,
   "id": "b7755caf-eff9-43d2-b1a7-76daca0070f0",
   "metadata": {},
   "outputs": [
    {
     "data": {
      "text/plain": [
       "torch.Size([1331])"
      ]
     },
     "execution_count": 235,
     "metadata": {},
     "output_type": "execute_result"
    }
   ],
   "source": [
    "train_input[0].shape"
   ]
  },
  {
   "cell_type": "code",
   "execution_count": 236,
   "id": "86c99794-ada3-4d3b-bad9-22feea02096b",
   "metadata": {},
   "outputs": [],
   "source": [
    "val_X = torch.FloatTensor(vectorizer.transform(val_data).toarray())\n",
    "test_X = torch.FloatTensor(vectorizer.transform(test_data).toarray())"
   ]
  },
  {
   "cell_type": "code",
   "execution_count": 237,
   "id": "fed863e1-6898-4310-9564-6a9fff610707",
   "metadata": {},
   "outputs": [],
   "source": [
    "# Pytorch dataset\n",
    "class HinglishDataset(Dataset):\n",
    "    def __init__(self, inputs, labels):\n",
    "        self.inputs = inputs\n",
    "        self.labels = labels\n",
    "        \n",
    "    def __len__(self):\n",
    "        return len(self.inputs)\n",
    "    \n",
    "    def __getitem__(self, idx):\n",
    "        return [self.inputs[idx], self.labels[idx]]"
   ]
  },
  {
   "cell_type": "code",
   "execution_count": 238,
   "id": "8ff8e321-c277-407a-8ef5-2cd8f598c927",
   "metadata": {},
   "outputs": [],
   "source": [
    "train_dataset = HinglishDataset(train_input, train_label)\n",
    "val_dataset = HinglishDataset(val_X, val_label)\n",
    "test_dataset = HinglishDataset(test_X, test_labels)"
   ]
  },
  {
   "cell_type": "code",
   "execution_count": 239,
   "id": "f26cbe97-45f9-4ff0-852e-408845480463",
   "metadata": {},
   "outputs": [
    {
     "data": {
      "text/plain": [
       "torch.Size([1331])"
      ]
     },
     "execution_count": 239,
     "metadata": {},
     "output_type": "execute_result"
    }
   ],
   "source": [
    "train_dataset[0][0].shape"
   ]
  },
  {
   "cell_type": "code",
   "execution_count": 240,
   "id": "d664d5de-f501-4d8e-83c8-faf7cee2386b",
   "metadata": {},
   "outputs": [
    {
     "data": {
      "text/plain": [
       "torch.Size([1331])"
      ]
     },
     "execution_count": 240,
     "metadata": {},
     "output_type": "execute_result"
    }
   ],
   "source": [
    "val_dataset[0][0].shape"
   ]
  },
  {
   "cell_type": "code",
   "execution_count": 241,
   "id": "20136586-4d46-4e7a-8f39-705478ebb458",
   "metadata": {},
   "outputs": [
    {
     "data": {
      "text/plain": [
       "torch.Size([1331])"
      ]
     },
     "execution_count": 241,
     "metadata": {},
     "output_type": "execute_result"
    }
   ],
   "source": [
    "test_dataset[0][0].shape"
   ]
  },
  {
   "cell_type": "code",
   "execution_count": 242,
   "id": "9dc64234-3262-46a8-acdd-51e89bbf350f",
   "metadata": {},
   "outputs": [],
   "source": [
    "input_dim = len(vectorizer.get_feature_names())\n",
    "output_dim = 3\n",
    "hidden1_dim = 256\n",
    "hidden2_dim = 128\n",
    "epochs = 20"
   ]
  },
  {
   "cell_type": "code",
   "execution_count": 243,
   "id": "143ca87c-5a93-4515-b3bf-9d49e061ec78",
   "metadata": {},
   "outputs": [],
   "source": [
    "device = torch.device(\"cuda\" if torch.cuda.is_available() else \"cpu\")"
   ]
  },
  {
   "cell_type": "code",
   "execution_count": 244,
   "id": "8a59e3bd-8a8e-4413-8dcd-a64885ec5234",
   "metadata": {},
   "outputs": [],
   "source": [
    "model = nn.Sequential(\n",
    "    nn.Linear(input_dim, hidden1_dim),\n",
    "    nn.ReLU(),\n",
    "    nn.Linear(hidden1_dim, hidden2_dim),\n",
    "    nn.ReLU(),\n",
    "    nn.Linear(hidden2_dim, output_dim),\n",
    "    nn.Softmax(dim=1)\n",
    ")"
   ]
  },
  {
   "cell_type": "code",
   "execution_count": 245,
   "id": "a1eb7d76-665d-46da-bad6-b329ab7cca8d",
   "metadata": {},
   "outputs": [
    {
     "data": {
      "text/plain": [
       "Sequential(\n",
       "  (0): Linear(in_features=1331, out_features=256, bias=True)\n",
       "  (1): ReLU()\n",
       "  (2): Linear(in_features=256, out_features=128, bias=True)\n",
       "  (3): ReLU()\n",
       "  (4): Linear(in_features=128, out_features=3, bias=True)\n",
       "  (5): Softmax(dim=1)\n",
       ")"
      ]
     },
     "execution_count": 245,
     "metadata": {},
     "output_type": "execute_result"
    }
   ],
   "source": [
    "model.to(device)"
   ]
  },
  {
   "cell_type": "code",
   "execution_count": 267,
   "id": "8d28a161-4b01-4401-927a-e3eaa810c83f",
   "metadata": {},
   "outputs": [],
   "source": [
    "criterion = nn.CrossEntropyLoss()\n",
    "optimizer = optim.SGD(model.parameters(), lr=0.001, momentum=0.9)\n",
    "# scheduler = optim.lr_scheduler.ReduceLROnPlateau(optimizer)"
   ]
  },
  {
   "cell_type": "code",
   "execution_count": 247,
   "id": "7c13ed7c-5fcc-4e28-9028-09d00891e9cc",
   "metadata": {},
   "outputs": [],
   "source": [
    "BATCH_SIZE = 64\n",
    "\n",
    "train_loader = DataLoader(train_dataset, batch_size=BATCH_SIZE, shuffle=True, num_workers=2, )\n",
    "val_loader = DataLoader(val_dataset, batch_size=BATCH_SIZE, shuffle=False, num_workers=2)\n",
    "test_loader = DataLoader(test_dataset, batch_size=BATCH_SIZE, shuffle=False, num_workers=2)"
   ]
  },
  {
   "cell_type": "code",
   "execution_count": 248,
   "id": "f27c2c79-8e84-496c-8e0e-0da63a74f581",
   "metadata": {},
   "outputs": [],
   "source": [
    "sample = next(iter(train_loader))"
   ]
  },
  {
   "cell_type": "code",
   "execution_count": 249,
   "id": "71915ea2-785b-4046-bac6-936600d7bd38",
   "metadata": {},
   "outputs": [
    {
     "data": {
      "text/plain": [
       "torch.Size([64, 1331])"
      ]
     },
     "execution_count": 249,
     "metadata": {},
     "output_type": "execute_result"
    }
   ],
   "source": [
    "sample[0].shape"
   ]
  },
  {
   "cell_type": "code",
   "execution_count": 250,
   "id": "38eb407a-c0af-4a93-9ffd-eba38bf91764",
   "metadata": {},
   "outputs": [
    {
     "data": {
      "text/plain": [
       "torch.Size([64])"
      ]
     },
     "execution_count": 250,
     "metadata": {},
     "output_type": "execute_result"
    }
   ],
   "source": [
    "sample[1].shape"
   ]
  },
  {
   "cell_type": "code",
   "execution_count": 268,
   "id": "12341917-b378-4f4d-8d4b-f9bd46b6c1d9",
   "metadata": {},
   "outputs": [],
   "source": [
    "def train(iterator):\n",
    "    epoch_loss = 0\n",
    "    model.train()\n",
    "    \n",
    "    train_example_ct = 0  # number of examples seen\n",
    "    train_batch_ct = 0\n",
    "    \n",
    "    for batch in iterator:\n",
    "        # get the inputs; data is a list of [inputs, labels]\n",
    "        inputs, labels = batch\n",
    "\n",
    "        # zero the parameter gradients\n",
    "        optimizer.zero_grad()\n",
    "\n",
    "        # forward + backward + optimize\n",
    "        outputs = model(inputs.to(device))\n",
    "        \n",
    "        train_example_ct +=  len(inputs)\n",
    "        train_batch_ct += 1\n",
    "        \n",
    "        loss = criterion(outputs, labels.to(device))\n",
    "        loss.backward()\n",
    "        optimizer.step()\n",
    "        # scheduler.step(loss)\n",
    "        \n",
    "        if ((train_batch_ct + 1) % 15) == 0:\n",
    "            print(f\"Training Loss after \" + str(train_example_ct).zfill(5) + f\" examples: {loss:.3f}\")\n",
    "            wandb.log({\"training_loss\": loss}, step=train_example_ct)\n",
    "            \n",
    "        epoch_loss += loss.item()\n",
    "    return epoch_loss / len(iterator)"
   ]
  },
  {
   "cell_type": "code",
   "execution_count": 252,
   "id": "2b182d4b-4ce0-48e0-bd56-696240d6a7e2",
   "metadata": {},
   "outputs": [],
   "source": [
    "def simple_accuracy(preds, labels):\n",
    "    \"\"\"Takes in two lists of predicted labels and actual labels and returns the accuracy in the form of a float. \"\"\"\n",
    "    return np.equal(preds, labels).mean()"
   ]
  },
  {
   "cell_type": "code",
   "execution_count": 262,
   "id": "847a88d9-d820-490b-9041-d4c154c697b1",
   "metadata": {},
   "outputs": [],
   "source": [
    "def evaluate(iterator):\n",
    "    epoch_loss = 0\n",
    "    model.eval()\n",
    "    preds = []\n",
    "    trgs = []\n",
    "    \n",
    "    valid_example_ct = 0  # number of examples seen\n",
    "    valid_batch_ct = 0\n",
    "    \n",
    "    with torch.no_grad():\n",
    "        for batch in iterator:\n",
    "            # get the inputs; data is a list of [inputs, labels]\n",
    "            inputs, labels = batch\n",
    "\n",
    "            # forward + backward + optimize\n",
    "            outputs = model(inputs.to(device))\n",
    "            \n",
    "            valid_example_ct +=  len(inputs)\n",
    "            valid_batch_ct += 1\n",
    "            \n",
    "            loss = criterion(outputs, labels.to(device))\n",
    "            \n",
    "            epoch_loss += loss.item()\n",
    "            trgs.extend(labels.numpy().tolist())\n",
    "            _, predicted = torch.max(outputs.data, 1)\n",
    "            preds.extend(predicted.cpu().numpy().tolist())\n",
    "            \n",
    "            # Report metrics every 15th batch\n",
    "            if ((valid_batch_ct + 1) % 15) == 0:\n",
    "                print(f\"Loss after (validating)\" + str(valid_example_ct).zfill(5) + f\" examples: {loss:.3f}\")\n",
    "                wandb.log({\"validation_loss\": loss}, step=valid_example_ct)\n",
    "    \n",
    "    return epoch_loss / len(iterator), simple_accuracy(preds, trgs)"
   ]
  },
  {
   "cell_type": "code",
   "execution_count": 263,
   "id": "108cff76-a542-4a93-b5bf-46c9c119e716",
   "metadata": {},
   "outputs": [],
   "source": [
    "def epoch_time(start_time, end_time):\n",
    "    elapsed_time = end_time - start_time\n",
    "    elapsed_mins = int(elapsed_time / 60)\n",
    "    elapsed_secs = elapsed_time - (elapsed_mins * 60)\n",
    "    return elapsed_mins, elapsed_secs"
   ]
  },
  {
   "cell_type": "code",
   "execution_count": 264,
   "id": "70ac95d6-43aa-4a30-b2e0-b0f904450f4f",
   "metadata": {},
   "outputs": [],
   "source": [
    "model_path = Path(\"model/\")\n",
    "model_path.mkdir(parents=True, exist_ok=True)"
   ]
  },
  {
   "cell_type": "code",
   "execution_count": 269,
   "id": "621b44bb-0afc-47a5-84cd-169ce8655543",
   "metadata": {},
   "outputs": [
    {
     "data": {
      "text/html": [
       "Tracking run with wandb version 0.12.18"
      ],
      "text/plain": [
       "<IPython.core.display.HTML object>"
      ]
     },
     "metadata": {},
     "output_type": "display_data"
    },
    {
     "data": {
      "text/html": [
       "Run data is saved locally in <code>/notebooks/wandb/run-20220619_204531-188r2anu</code>"
      ],
      "text/plain": [
       "<IPython.core.display.HTML object>"
      ]
     },
     "metadata": {},
     "output_type": "display_data"
    },
    {
     "data": {
      "text/html": [
       "Syncing run <strong><a href=\"https://wandb.ai/alokpadhi/Sentiment%20Analysis-Hinglish/runs/188r2anu\" target=\"_blank\">amber-puddle-14</a></strong> to <a href=\"https://wandb.ai/alokpadhi/Sentiment%20Analysis-Hinglish\" target=\"_blank\">Weights & Biases</a> (<a href=\"https://wandb.me/run\" target=\"_blank\">docs</a>)<br/>"
      ],
      "text/plain": [
       "<IPython.core.display.HTML object>"
      ]
     },
     "metadata": {},
     "output_type": "display_data"
    },
    {
     "name": "stdout",
     "output_type": "stream",
     "text": [
      "Training Loss after 00896 examples: 1.101\n",
      "Training Loss after 01856 examples: 1.096\n",
      "Training Loss after 02816 examples: 1.095\n",
      "Training Loss after 03776 examples: 1.096\n",
      "Training Loss after 04736 examples: 1.099\n",
      "Training Loss after 05696 examples: 1.098\n",
      "Training Loss after 06656 examples: 1.099\n",
      "Training Loss after 07616 examples: 1.099\n",
      "Training Loss after 08576 examples: 1.093\n",
      "Training Loss after 09536 examples: 1.098\n",
      "Training Loss after 10496 examples: 1.092\n",
      "Loss after (validating)00896 examples: 1.096\n",
      "Loss after (validating)01856 examples: 1.091\n",
      "Loss after (validating)02816 examples: 1.101\n",
      "Epoch: 01 | Time: 0m 3.96s\n",
      "\tTrain Loss: 1.097 | Val Loss: 1.097 | Val Acc: 0.378\n",
      "Training Loss after 00896 examples: 1.098\n",
      "Training Loss after 01856 examples: 1.095\n",
      "Training Loss after 02816 examples: 1.096\n",
      "Training Loss after 03776 examples: 1.099\n",
      "Training Loss after 04736 examples: 1.091\n",
      "Training Loss after 05696 examples: 1.096\n",
      "Training Loss after 06656 examples: 1.093\n",
      "Training Loss after 07616 examples: 1.099\n",
      "Training Loss after 08576 examples: 1.095\n",
      "Training Loss after 09536 examples: 1.095\n",
      "Training Loss after 10496 examples: 1.094\n",
      "Loss after (validating)00896 examples: 1.095\n",
      "Loss after (validating)01856 examples: 1.090\n",
      "Loss after (validating)02816 examples: 1.100\n",
      "Epoch: 02 | Time: 0m 3.98s\n",
      "\tTrain Loss: 1.096 | Val Loss: 1.096 | Val Acc: 0.378\n",
      "Training Loss after 00896 examples: 1.094\n",
      "Training Loss after 01856 examples: 1.101\n",
      "Training Loss after 02816 examples: 1.097\n",
      "Training Loss after 03776 examples: 1.102\n",
      "Training Loss after 04736 examples: 1.093\n",
      "Training Loss after 05696 examples: 1.100\n",
      "Training Loss after 06656 examples: 1.093\n",
      "Training Loss after 07616 examples: 1.098\n",
      "Training Loss after 08576 examples: 1.098\n",
      "Training Loss after 09536 examples: 1.096\n",
      "Training Loss after 10496 examples: 1.095\n",
      "Loss after (validating)00896 examples: 1.095\n",
      "Loss after (validating)01856 examples: 1.088\n",
      "Loss after (validating)02816 examples: 1.099\n",
      "Epoch: 03 | Time: 0m 4.21s\n",
      "\tTrain Loss: 1.096 | Val Loss: 1.095 | Val Acc: 0.378\n",
      "Training Loss after 00896 examples: 1.100\n",
      "Training Loss after 01856 examples: 1.092\n",
      "Training Loss after 02816 examples: 1.104\n",
      "Training Loss after 03776 examples: 1.104\n",
      "Training Loss after 04736 examples: 1.097\n",
      "Training Loss after 05696 examples: 1.090\n",
      "Training Loss after 06656 examples: 1.099\n",
      "Training Loss after 07616 examples: 1.092\n",
      "Training Loss after 08576 examples: 1.095\n",
      "Training Loss after 09536 examples: 1.088\n",
      "Training Loss after 10496 examples: 1.099\n",
      "Loss after (validating)00896 examples: 1.094\n",
      "Loss after (validating)01856 examples: 1.087\n",
      "Loss after (validating)02816 examples: 1.099\n",
      "Epoch: 04 | Time: 0m 4.15s\n",
      "\tTrain Loss: 1.095 | Val Loss: 1.095 | Val Acc: 0.378\n",
      "Training Loss after 00896 examples: 1.101\n",
      "Training Loss after 01856 examples: 1.097\n",
      "Training Loss after 02816 examples: 1.095\n",
      "Training Loss after 03776 examples: 1.090\n",
      "Training Loss after 04736 examples: 1.100\n",
      "Training Loss after 05696 examples: 1.092\n",
      "Training Loss after 06656 examples: 1.096\n",
      "Training Loss after 07616 examples: 1.093\n",
      "Training Loss after 08576 examples: 1.089\n",
      "Training Loss after 09536 examples: 1.090\n",
      "Training Loss after 10496 examples: 1.098\n",
      "Loss after (validating)00896 examples: 1.094\n",
      "Loss after (validating)01856 examples: 1.085\n",
      "Loss after (validating)02816 examples: 1.098\n",
      "Epoch: 05 | Time: 0m 3.67s\n",
      "\tTrain Loss: 1.095 | Val Loss: 1.095 | Val Acc: 0.378\n",
      "Training Loss after 00896 examples: 1.104\n",
      "Training Loss after 01856 examples: 1.093\n",
      "Training Loss after 02816 examples: 1.089\n",
      "Training Loss after 03776 examples: 1.096\n",
      "Training Loss after 04736 examples: 1.094\n",
      "Training Loss after 05696 examples: 1.093\n",
      "Training Loss after 06656 examples: 1.108\n",
      "Training Loss after 07616 examples: 1.096\n",
      "Training Loss after 08576 examples: 1.080\n",
      "Training Loss after 09536 examples: 1.087\n",
      "Training Loss after 10496 examples: 1.089\n",
      "Loss after (validating)00896 examples: 1.093\n",
      "Loss after (validating)01856 examples: 1.084\n",
      "Loss after (validating)02816 examples: 1.097\n",
      "Epoch: 06 | Time: 0m 3.87s\n",
      "\tTrain Loss: 1.094 | Val Loss: 1.094 | Val Acc: 0.378\n",
      "Training Loss after 00896 examples: 1.092\n",
      "Training Loss after 01856 examples: 1.092\n",
      "Training Loss after 02816 examples: 1.087\n",
      "Training Loss after 03776 examples: 1.100\n",
      "Training Loss after 04736 examples: 1.089\n",
      "Training Loss after 05696 examples: 1.090\n",
      "Training Loss after 06656 examples: 1.100\n",
      "Training Loss after 07616 examples: 1.085\n",
      "Training Loss after 08576 examples: 1.090\n",
      "Training Loss after 09536 examples: 1.102\n",
      "Training Loss after 10496 examples: 1.094\n",
      "Loss after (validating)00896 examples: 1.093\n",
      "Loss after (validating)01856 examples: 1.083\n",
      "Loss after (validating)02816 examples: 1.097\n",
      "Epoch: 07 | Time: 0m 4.23s\n",
      "\tTrain Loss: 1.094 | Val Loss: 1.094 | Val Acc: 0.378\n",
      "Training Loss after 00896 examples: 1.098\n",
      "Training Loss after 01856 examples: 1.084\n",
      "Training Loss after 02816 examples: 1.098\n",
      "Training Loss after 03776 examples: 1.099\n",
      "Training Loss after 04736 examples: 1.093\n",
      "Training Loss after 05696 examples: 1.089\n",
      "Training Loss after 06656 examples: 1.089\n",
      "Training Loss after 07616 examples: 1.101\n",
      "Training Loss after 08576 examples: 1.097\n",
      "Training Loss after 09536 examples: 1.088\n",
      "Training Loss after 10496 examples: 1.088\n",
      "Loss after (validating)00896 examples: 1.093\n",
      "Loss after (validating)01856 examples: 1.082\n",
      "Loss after (validating)02816 examples: 1.096\n",
      "Epoch: 08 | Time: 0m 4.16s\n",
      "\tTrain Loss: 1.094 | Val Loss: 1.094 | Val Acc: 0.378\n",
      "Training Loss after 00896 examples: 1.104\n",
      "Training Loss after 01856 examples: 1.090\n",
      "Training Loss after 02816 examples: 1.093\n",
      "Training Loss after 03776 examples: 1.099\n",
      "Training Loss after 04736 examples: 1.082\n",
      "Training Loss after 05696 examples: 1.089\n",
      "Training Loss after 06656 examples: 1.093\n",
      "Training Loss after 07616 examples: 1.081\n",
      "Training Loss after 08576 examples: 1.095\n",
      "Training Loss after 09536 examples: 1.078\n",
      "Training Loss after 10496 examples: 1.103\n",
      "Loss after (validating)00896 examples: 1.092\n",
      "Loss after (validating)01856 examples: 1.082\n",
      "Loss after (validating)02816 examples: 1.096\n",
      "Epoch: 09 | Time: 0m 4.04s\n",
      "\tTrain Loss: 1.094 | Val Loss: 1.093 | Val Acc: 0.378\n",
      "Training Loss after 00896 examples: 1.097\n",
      "Training Loss after 01856 examples: 1.094\n",
      "Training Loss after 02816 examples: 1.096\n",
      "Training Loss after 03776 examples: 1.096\n",
      "Training Loss after 04736 examples: 1.078\n",
      "Training Loss after 05696 examples: 1.083\n",
      "Training Loss after 06656 examples: 1.094\n",
      "Training Loss after 07616 examples: 1.098\n",
      "Training Loss after 08576 examples: 1.094\n",
      "Training Loss after 09536 examples: 1.081\n",
      "Training Loss after 10496 examples: 1.100\n",
      "Loss after (validating)00896 examples: 1.092\n",
      "Loss after (validating)01856 examples: 1.081\n",
      "Loss after (validating)02816 examples: 1.096\n",
      "Epoch: 10 | Time: 0m 4.32s\n",
      "\tTrain Loss: 1.094 | Val Loss: 1.093 | Val Acc: 0.378\n",
      "Training Loss after 00896 examples: 1.093\n",
      "Training Loss after 01856 examples: 1.095\n",
      "Training Loss after 02816 examples: 1.096\n",
      "Training Loss after 03776 examples: 1.098\n",
      "Training Loss after 04736 examples: 1.102\n",
      "Training Loss after 05696 examples: 1.090\n",
      "Training Loss after 06656 examples: 1.100\n",
      "Training Loss after 07616 examples: 1.091\n",
      "Training Loss after 08576 examples: 1.090\n",
      "Training Loss after 09536 examples: 1.085\n",
      "Training Loss after 10496 examples: 1.094\n",
      "Loss after (validating)00896 examples: 1.092\n",
      "Loss after (validating)01856 examples: 1.080\n",
      "Loss after (validating)02816 examples: 1.095\n",
      "Epoch: 11 | Time: 0m 4.31s\n",
      "\tTrain Loss: 1.093 | Val Loss: 1.093 | Val Acc: 0.378\n",
      "Training Loss after 00896 examples: 1.097\n",
      "Training Loss after 01856 examples: 1.093\n",
      "Training Loss after 02816 examples: 1.100\n",
      "Training Loss after 03776 examples: 1.100\n",
      "Training Loss after 04736 examples: 1.110\n",
      "Training Loss after 05696 examples: 1.102\n",
      "Training Loss after 06656 examples: 1.094\n",
      "Training Loss after 07616 examples: 1.099\n",
      "Training Loss after 08576 examples: 1.085\n",
      "Training Loss after 09536 examples: 1.095\n",
      "Training Loss after 10496 examples: 1.102\n",
      "Loss after (validating)00896 examples: 1.092\n",
      "Loss after (validating)01856 examples: 1.079\n",
      "Loss after (validating)02816 examples: 1.095\n",
      "Epoch: 12 | Time: 0m 3.86s\n",
      "\tTrain Loss: 1.093 | Val Loss: 1.092 | Val Acc: 0.378\n",
      "Training Loss after 00896 examples: 1.093\n",
      "Training Loss after 01856 examples: 1.105\n",
      "Training Loss after 02816 examples: 1.100\n",
      "Training Loss after 03776 examples: 1.098\n",
      "Training Loss after 04736 examples: 1.093\n",
      "Training Loss after 05696 examples: 1.100\n",
      "Training Loss after 06656 examples: 1.092\n",
      "Training Loss after 07616 examples: 1.100\n",
      "Training Loss after 08576 examples: 1.098\n",
      "Training Loss after 09536 examples: 1.113\n",
      "Training Loss after 10496 examples: 1.108\n",
      "Loss after (validating)00896 examples: 1.091\n",
      "Loss after (validating)01856 examples: 1.079\n",
      "Loss after (validating)02816 examples: 1.094\n",
      "Epoch: 13 | Time: 0m 3.96s\n",
      "\tTrain Loss: 1.093 | Val Loss: 1.092 | Val Acc: 0.378\n",
      "Training Loss after 00896 examples: 1.091\n",
      "Training Loss after 01856 examples: 1.087\n",
      "Training Loss after 02816 examples: 1.094\n",
      "Training Loss after 03776 examples: 1.081\n",
      "Training Loss after 04736 examples: 1.096\n",
      "Training Loss after 05696 examples: 1.074\n",
      "Training Loss after 06656 examples: 1.088\n",
      "Training Loss after 07616 examples: 1.090\n",
      "Training Loss after 08576 examples: 1.090\n",
      "Training Loss after 09536 examples: 1.098\n",
      "Training Loss after 10496 examples: 1.086\n",
      "Loss after (validating)00896 examples: 1.091\n",
      "Loss after (validating)01856 examples: 1.078\n",
      "Loss after (validating)02816 examples: 1.094\n",
      "Epoch: 14 | Time: 0m 4.02s\n",
      "\tTrain Loss: 1.093 | Val Loss: 1.092 | Val Acc: 0.378\n",
      "Training Loss after 00896 examples: 1.101\n",
      "Training Loss after 01856 examples: 1.077\n",
      "Training Loss after 02816 examples: 1.080\n",
      "Training Loss after 03776 examples: 1.096\n",
      "Training Loss after 04736 examples: 1.101\n",
      "Training Loss after 05696 examples: 1.095\n",
      "Training Loss after 06656 examples: 1.081\n",
      "Training Loss after 07616 examples: 1.106\n",
      "Training Loss after 08576 examples: 1.098\n",
      "Training Loss after 09536 examples: 1.103\n",
      "Training Loss after 10496 examples: 1.084\n",
      "Loss after (validating)00896 examples: 1.091\n",
      "Loss after (validating)01856 examples: 1.077\n",
      "Loss after (validating)02816 examples: 1.093\n",
      "Epoch: 15 | Time: 0m 3.93s\n",
      "\tTrain Loss: 1.093 | Val Loss: 1.092 | Val Acc: 0.378\n",
      "Training Loss after 00896 examples: 1.098\n",
      "Training Loss after 01856 examples: 1.099\n",
      "Training Loss after 02816 examples: 1.088\n",
      "Training Loss after 03776 examples: 1.099\n",
      "Training Loss after 04736 examples: 1.097\n",
      "Training Loss after 05696 examples: 1.107\n",
      "Training Loss after 06656 examples: 1.090\n",
      "Training Loss after 07616 examples: 1.097\n",
      "Training Loss after 08576 examples: 1.084\n",
      "Training Loss after 09536 examples: 1.093\n",
      "Training Loss after 10496 examples: 1.078\n",
      "Loss after (validating)00896 examples: 1.091\n",
      "Loss after (validating)01856 examples: 1.077\n",
      "Loss after (validating)02816 examples: 1.093\n",
      "Epoch: 16 | Time: 0m 4.27s\n",
      "\tTrain Loss: 1.093 | Val Loss: 1.092 | Val Acc: 0.378\n",
      "Training Loss after 00896 examples: 1.092\n",
      "Training Loss after 01856 examples: 1.102\n",
      "Training Loss after 02816 examples: 1.089\n",
      "Training Loss after 03776 examples: 1.100\n",
      "Training Loss after 04736 examples: 1.095\n",
      "Training Loss after 05696 examples: 1.109\n",
      "Training Loss after 06656 examples: 1.097\n",
      "Training Loss after 07616 examples: 1.098\n",
      "Training Loss after 08576 examples: 1.100\n",
      "Training Loss after 09536 examples: 1.104\n",
      "Training Loss after 10496 examples: 1.095\n",
      "Loss after (validating)00896 examples: 1.091\n",
      "Loss after (validating)01856 examples: 1.077\n",
      "Loss after (validating)02816 examples: 1.092\n",
      "Epoch: 17 | Time: 0m 3.78s\n",
      "\tTrain Loss: 1.092 | Val Loss: 1.091 | Val Acc: 0.378\n",
      "Training Loss after 00896 examples: 1.085\n",
      "Training Loss after 01856 examples: 1.087\n",
      "Training Loss after 02816 examples: 1.105\n",
      "Training Loss after 03776 examples: 1.091\n",
      "Training Loss after 04736 examples: 1.086\n",
      "Training Loss after 05696 examples: 1.091\n",
      "Training Loss after 06656 examples: 1.097\n",
      "Training Loss after 07616 examples: 1.081\n",
      "Training Loss after 08576 examples: 1.091\n",
      "Training Loss after 09536 examples: 1.078\n",
      "Training Loss after 10496 examples: 1.095\n",
      "Loss after (validating)00896 examples: 1.091\n",
      "Loss after (validating)01856 examples: 1.076\n",
      "Loss after (validating)02816 examples: 1.092\n",
      "Epoch: 18 | Time: 0m 3.95s\n",
      "\tTrain Loss: 1.092 | Val Loss: 1.091 | Val Acc: 0.378\n",
      "Training Loss after 00896 examples: 1.100\n",
      "Training Loss after 01856 examples: 1.101\n",
      "Training Loss after 02816 examples: 1.084\n",
      "Training Loss after 03776 examples: 1.102\n",
      "Training Loss after 04736 examples: 1.081\n",
      "Training Loss after 05696 examples: 1.073\n",
      "Training Loss after 06656 examples: 1.096\n",
      "Training Loss after 07616 examples: 1.085\n",
      "Training Loss after 08576 examples: 1.091\n",
      "Training Loss after 09536 examples: 1.099\n",
      "Training Loss after 10496 examples: 1.096\n",
      "Loss after (validating)00896 examples: 1.090\n",
      "Loss after (validating)01856 examples: 1.075\n",
      "Loss after (validating)02816 examples: 1.091\n",
      "Epoch: 19 | Time: 0m 4.59s\n",
      "\tTrain Loss: 1.092 | Val Loss: 1.091 | Val Acc: 0.378\n",
      "Training Loss after 00896 examples: 1.086\n",
      "Training Loss after 01856 examples: 1.090\n",
      "Training Loss after 02816 examples: 1.087\n",
      "Training Loss after 03776 examples: 1.097\n",
      "Training Loss after 04736 examples: 1.101\n",
      "Training Loss after 05696 examples: 1.102\n",
      "Training Loss after 06656 examples: 1.095\n",
      "Training Loss after 07616 examples: 1.077\n",
      "Training Loss after 08576 examples: 1.088\n",
      "Training Loss after 09536 examples: 1.069\n",
      "Training Loss after 10496 examples: 1.111\n",
      "Loss after (validating)00896 examples: 1.090\n",
      "Loss after (validating)01856 examples: 1.075\n",
      "Loss after (validating)02816 examples: 1.091\n",
      "Epoch: 20 | Time: 0m 4.63s\n",
      "\tTrain Loss: 1.092 | Val Loss: 1.091 | Val Acc: 0.378\n"
     ]
    },
    {
     "data": {
      "text/html": [
       "Waiting for W&B process to finish... <strong style=\"color:green\">(success).</strong>"
      ],
      "text/plain": [
       "<IPython.core.display.HTML object>"
      ]
     },
     "metadata": {},
     "output_type": "display_data"
    },
    {
     "data": {
      "application/vnd.jupyter.widget-view+json": {
       "model_id": "",
       "version_major": 2,
       "version_minor": 0
      },
      "text/plain": [
       "VBox(children=(Label(value='28.592 MB of 28.592 MB uploaded (0.000 MB deduped)\\r'), FloatProgress(value=1.0, m…"
      ]
     },
     "metadata": {},
     "output_type": "display_data"
    },
    {
     "data": {
      "text/html": [
       "<style>\n",
       "    table.wandb td:nth-child(1) { padding: 0 10px; text-align: left ; width: auto;} td:nth-child(2) {text-align: left ; width: 100%}\n",
       "    .wandb-row { display: flex; flex-direction: row; flex-wrap: wrap; justify-content: flex-start; width: 100% }\n",
       "    .wandb-col { display: flex; flex-direction: column; flex-basis: 100%; flex: 1; padding: 10px; }\n",
       "    </style>\n",
       "<div class=\"wandb-row\"><div class=\"wandb-col\"><h3>Run history:</h3><br/><table class=\"wandb\"><tr><td>epoch</td><td>▁▁▁▁▁▁▁▁▁▁▁▁▁▁▁▁▁▁▁▁</td></tr><tr><td>training_loss</td><td>█▄▃▄▇▅▆▇▂▆▁</td></tr></table><br/></div><div class=\"wandb-col\"><h3>Run summary:</h3><br/><table class=\"wandb\"><tr><td>epoch</td><td>20</td></tr><tr><td>optimizer</td><td>SGD</td></tr><tr><td>training_loss</td><td>1.09236</td></tr></table><br/></div></div>"
      ],
      "text/plain": [
       "<IPython.core.display.HTML object>"
      ]
     },
     "metadata": {},
     "output_type": "display_data"
    },
    {
     "data": {
      "text/html": [
       "Synced <strong style=\"color:#cdcd00\">amber-puddle-14</strong>: <a href=\"https://wandb.ai/alokpadhi/Sentiment%20Analysis-Hinglish/runs/188r2anu\" target=\"_blank\">https://wandb.ai/alokpadhi/Sentiment%20Analysis-Hinglish/runs/188r2anu</a><br/>Synced 5 W&B file(s), 0 media file(s), 20 artifact file(s) and 0 other file(s)"
      ],
      "text/plain": [
       "<IPython.core.display.HTML object>"
      ]
     },
     "metadata": {},
     "output_type": "display_data"
    },
    {
     "data": {
      "text/html": [
       "Find logs at: <code>./wandb/run-20220619_204531-188r2anu/logs</code>"
      ],
      "text/plain": [
       "<IPython.core.display.HTML object>"
      ]
     },
     "metadata": {},
     "output_type": "display_data"
    }
   ],
   "source": [
    "with wandb.init(project=\"Sentiment Analysis-Hinglish\") as run:\n",
    "    wandb.watch(model, criterion, log=\"all\", log_freq=10)\n",
    "    \n",
    "    best_valid_loss = float('inf')\n",
    "    for epoch in range(epochs):\n",
    "        start_time = time.time()\n",
    "        train_loss = train(train_loader)\n",
    "        val_loss, val_acc = evaluate(val_loader)\n",
    "        end_time = time.time()\n",
    "\n",
    "        epoch_mins, epoch_secs = epoch_time(start_time, end_time)\n",
    "        print(f\"Epoch: {epoch + 1:02} | Time: {epoch_mins}m {epoch_secs:.2f}s\")\n",
    "        print(f\"\\tTrain Loss: {train_loss:.3f} | Val Loss: {val_loss:.3f} | Val Acc: {val_acc:.3f}\")\n",
    "\n",
    "        if val_loss < best_valid_loss:\n",
    "            best_valid_loss = val_loss\n",
    "            torch.save(model.state_dict(), Path(model_path, \"multilayer_perceptron.pt\"))\n",
    "        \n",
    "        model_artifact = wandb.Artifact(\n",
    "          \"MLP\",type=\"model\",description=\"MLP baseline model\", metadata={\"hidden_layer_dims\": [256,128], \"activation\": \"ReLU\"})\n",
    "        \n",
    "        wandb.log({\"epoch\": epochs, \"optimizer\": \"SGD\"})\n",
    "        model_artifact.add_file(Path(model_path, \"multilayer_perceptron.pt\"))\n",
    "        run.log_artifact(model_artifact)"
   ]
  },
  {
   "cell_type": "code",
   "execution_count": null,
   "id": "83998289-a765-4ab5-8709-b76065d2c7b0",
   "metadata": {},
   "outputs": [],
   "source": []
  }
 ],
 "metadata": {
  "kernelspec": {
   "display_name": "Python 3 (ipykernel)",
   "language": "python",
   "name": "python3"
  },
  "language_info": {
   "codemirror_mode": {
    "name": "ipython",
    "version": 3
   },
   "file_extension": ".py",
   "mimetype": "text/x-python",
   "name": "python",
   "nbconvert_exporter": "python",
   "pygments_lexer": "ipython3",
   "version": "3.8.12"
  }
 },
 "nbformat": 4,
 "nbformat_minor": 5
}
